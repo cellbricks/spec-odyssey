{
 "cells": [
  {
   "cell_type": "code",
   "execution_count": 1,
   "metadata": {},
   "outputs": [
    {
     "name": "stderr",
     "output_type": "stream",
     "text": [
      "2020-06-11 09:58:19,105\tINFO resource_spec.py:204 -- Starting Ray with 27.78 GiB memory available for workers and up to 13.9 GiB for objects. You can adjust these settings with ray.init(memory=<bytes>, object_store_memory=<bytes>).\n",
      "2020-06-11 09:58:19,430\tINFO services.py:1168 -- View the Ray dashboard at \u001b[1m\u001b[32mlocalhost:8265\u001b[39m\u001b[22m\n"
     ]
    },
    {
     "data": {
      "text/plain": [
       "{'node_ip_address': '192.168.1.6',\n",
       " 'raylet_ip_address': '192.168.1.6',\n",
       " 'redis_address': '192.168.1.6:36080',\n",
       " 'object_store_address': '/tmp/ray/session_2020-06-11_09-58-19_097211_32160/sockets/plasma_store',\n",
       " 'raylet_socket_name': '/tmp/ray/session_2020-06-11_09-58-19_097211_32160/sockets/raylet',\n",
       " 'webui_url': 'localhost:8265',\n",
       " 'session_dir': '/tmp/ray/session_2020-06-11_09-58-19_097211_32160'}"
      ]
     },
     "execution_count": 1,
     "metadata": {},
     "output_type": "execute_result"
    }
   ],
   "source": [
    "%load_ext autoreload\n",
    "%autoreload 2\n",
    "\n",
    "import os\n",
    "import sys\n",
    "import ray\n",
    "import redis\n",
    "import pickle\n",
    "\n",
    "import pandas as pd\n",
    "import pprint as pp\n",
    "import seaborn as sns\n",
    "import matplotlib.pyplot as plt\n",
    "\n",
    "ray.init()"
   ]
  },
  {
   "cell_type": "code",
   "execution_count": 2,
   "metadata": {},
   "outputs": [
    {
     "name": "stdout",
     "output_type": "stream",
     "text": [
      "['ts_123002v150000p-abbr.txt',\n",
      " 'ts_123002v150000p.pdf',\n",
      " 'ts_123401v151000p-abbr.txt',\n",
      " 'ts_123401v151000p.pdf',\n",
      " 'ts_123402v150300p-abbr.txt',\n",
      " 'ts_123402v150300p.pdf']\n"
     ]
    }
   ],
   "source": [
    "import util\n",
    "\n",
    "\n",
    "files = util.abs_file_paths(\"./3gpp-lte-rel-15\")\n",
    "pdfs = [f for f in files if f.endswith(\".pdf\")]\n",
    "pp.pprint(sorted(util.path_bns(files)))"
   ]
  },
  {
   "cell_type": "markdown",
   "metadata": {},
   "source": [
    "### Interative preparation (pdf too hard!)"
   ]
  },
  {
   "cell_type": "code",
   "execution_count": 3,
   "metadata": {},
   "outputs": [
    {
     "name": "stdout",
     "output_type": "stream",
     "text": [
      "{'ts_123002v150000p.pdf': {'BSC': 'Base Station Controller  area',\n",
      "                           'CN': 'Core Network  and Access Network (AN)',\n",
      "                           'CS': 'Circuit Switched  and Packet Switched (PS) '\n",
      "                                 'Domains',\n",
      "                           'CS Domain': 'CS Domain',\n",
      "                           'Cell': 'Cell',\n",
      "                           'Group call area': 'Group call area',\n",
      "                           'IMS': 'IP Multimedia subsystem ',\n",
      "                           'LA': 'Location Area ',\n",
      "                           'Location register': 'Location register',\n",
      "                           'MME': 'Are',\n",
      "                           'MSC': 'area',\n",
      "                           'PLMN': 'Public Land Mobile Network ',\n",
      "                           'PS Domain': 'PS Domain',\n",
      "                           'Pool-are': 'Pool-are',\n",
      "                           'RA': 'Routing Area ',\n",
      "                           'RNC': 'Radio Network Controller  area',\n",
      "                           'SGSN': 'area',\n",
      "                           'Service area': 'Service area',\n",
      "                           'Serving GW Service Area': 'Serving GW Service Area',\n",
      "                           'TA': 'Tracking Area ',\n",
      "                           'VLR': 'area',\n",
      "                           'Zones for Regional Subscription': 'Zones for '\n",
      "                                                              'Regional '\n",
      "                                                              'Subscription',\n",
      "                           'cell': 'cell',\n",
      "                           'cs domain': 'cs domain',\n",
      "                           'group call area': 'group call area',\n",
      "                           'location register': 'location register',\n",
      "                           'pool-are': 'pool-are',\n",
      "                           'ps domain': 'ps domain',\n",
      "                           'service area': 'service area',\n",
      "                           'serving gw service area': 'serving gw service area',\n",
      "                           'zones for regional subscription': 'zones for '\n",
      "                                                              'regional '\n",
      "                                                              'subscription'},\n",
      " 'ts_123401v151000p.pdf': {'5GS': '5G System',\n",
      "                           'AF': 'Application Function',\n",
      "                           'AMBR': 'Aggregate Maximum Bit Rate',\n",
      "                           'ARP': 'Allocation and Retention Priority',\n",
      "                           'C-SGN': 'CIoT Serving Gateway Node',\n",
      "                           'CBC': 'Cell Broadcast Centre',\n",
      "                           'CBE': 'Cell Broadcast Entity',\n",
      "                           'CIoT': 'Cellular IoT',\n",
      "                           'CSG': 'ID Closed Subscriber Group Identity',\n",
      "                           'CSS': 'CSG Subscriber Server',\n",
      "                           'DCN': 'Dedicated Core Network',\n",
      "                           'DL': 'TFT DownLink Traffic Flow Template',\n",
      "                           'DRX': 'Discontinuous Reception',\n",
      "                           'DeNB': 'Donor eNode B',\n",
      "                           'E-RAB': 'E-UTRAN Radio Access Bearer',\n",
      "                           'E-UTRAN': 'Evolved Universal Terrestrial Radio '\n",
      "                                      'Access Network',\n",
      "                           'ECGI': 'E-UTRAN Cell Global Identifier',\n",
      "                           'ECM': 'EPS Connection Management',\n",
      "                           'ECN': 'Explicit Congestion Notification',\n",
      "                           'EMM': 'EPS Mobility Management',\n",
      "                           'EPC': 'Evolved Packet Core',\n",
      "                           'EPS': 'Evolved Packet System',\n",
      "                           'GBR': 'Guaranteed Bit Rate',\n",
      "                           'GUMMEI': 'Globally Unique MME Identifier',\n",
      "                           'GUTI': 'Globally Unique Temporary Identity',\n",
      "                           'GW': 'Gateway',\n",
      "                           'HFN': 'Hyper Frame Number',\n",
      "                           'HeNB': 'GW Home eNode B Gateway',\n",
      "                           'IOPS': 'Isolated E-UTRAN Operation for Public '\n",
      "                                   'Safety',\n",
      "                           'ISR': 'Idle mode Signalling Reduction',\n",
      "                           'IoT': 'Internet of Things',\n",
      "                           'L-GW': 'Local GateWay',\n",
      "                           'LAA': 'Licensed Assisted Access',\n",
      "                           'LBI': 'Linked EPS Bearer Id',\n",
      "                           'LIPA': 'Local IP Access',\n",
      "                           'LWA': 'LTE/WLAN Aggregation',\n",
      "                           'LWIP': 'LTE/WLAN Radio Level Integration with '\n",
      "                                   'IPsec Tunnel',\n",
      "                           'M-TMSI': 'M-Temporary Mobile Subscriber Identity',\n",
      "                           'MBR': 'Maximum Bit Rate',\n",
      "                           'MME': 'Mobility Management Entity',\n",
      "                           'MMEC': 'MME Code',\n",
      "                           'MTC': 'Machine-Type Communications',\n",
      "                           'NB-IoT': 'Narrowband IoT',\n",
      "                           'NR': 'New Radio',\n",
      "                           'OCS': 'Online Charging System',\n",
      "                           'OFCS': 'Offline Charging System',\n",
      "                           'OMC-ID': 'Operation and Maintenance Centre '\n",
      "                                     'Identity',\n",
      "                           'P-GW': 'PDN Gateway',\n",
      "                           'PCC': 'Policy and Charging Control',\n",
      "                           'PCRF': 'Policy and Charging Rules Function',\n",
      "                           'PDCP': 'Packet Data Convergence Protocol',\n",
      "                           'PMIP': 'Proxy Mobile IP',\n",
      "                           'PRA': 'Presence Reporting Area',\n",
      "                           'PSAP': 'Public Safety Answering Point',\n",
      "                           'PSM': 'Power Saving Mode',\n",
      "                           'PTI': 'Procedure Transaction Id',\n",
      "                           'QCI': 'QoS Class Identifier',\n",
      "                           'RCAF': 'RAN Congestion Awareness Function',\n",
      "                           'RFSP': 'RAT/Frequency Selection Priority',\n",
      "                           'RN': 'Relay Node',\n",
      "                           'RUCI': 'RAN User Plane Congestion Information',\n",
      "                           'S-GW': 'Serving Gateway',\n",
      "                           'S-TMSI': 'S-Temporary Mobile Subscriber Identity',\n",
      "                           'SDF': 'Service Data Flow',\n",
      "                           'SIPTO': 'Selected IP Traffic Offload',\n",
      "                           'TAC': 'Tracking Area Code',\n",
      "                           'TAD': 'Traffic Aggregate Description',\n",
      "                           'TAI': 'Tracking Area Identity',\n",
      "                           'TAU': 'Tracking Area Update',\n",
      "                           'TI': 'Transaction Identifier',\n",
      "                           'TIN': 'Temporary Identity used in Next update',\n",
      "                           'UL': 'TFT UpLink Traffic Flow Template',\n",
      "                           'ULR-Flags': 'Update Location Request Flags',\n",
      "                           'URRP-MME': 'UE Reachability Request Parameter for '\n",
      "                                       'MME',\n",
      "                           'eNB': 'evolved Node B'},\n",
      " 'ts_123402v150300p.pdf': {'5GC': '5G Core Network',\n",
      "                           'ANDSF': 'Access Network Discovery and Selection '\n",
      "                                    'Function',\n",
      "                           'CPICH': 'Common Pilot Channel',\n",
      "                           'DMNP': 'Delegated Mobile Network Prefix',\n",
      "                           'DSMIPv6': 'Dual-Stack MIPv6',\n",
      "                           'EAP': 'Extensible Authentication Protocol',\n",
      "                           'EPC': 'Evolved Packet Core',\n",
      "                           'EPS': 'Evolved Packet System',\n",
      "                           'FACoA': 'Foreign Agent Care-of-Address',\n",
      "                           'FQDN': 'Fully Qualified Domain Name',\n",
      "                           'GW': 'Gateway',\n",
      "                           'H-ANDSF': 'Home-ANDSF',\n",
      "                           'HBM': 'Host-based Mobility',\n",
      "                           'HRPD': 'High Rate Packet Data',\n",
      "                           'HS-GW': 'HRPD Serving Gateway',\n",
      "                           'IFOM': 'IP Flow Mobility',\n",
      "                           'IKEv2': 'Internet Key Exchange version 2',\n",
      "                           'IPMS': 'IP Mobility management Selection',\n",
      "                           'LMA': 'Local Mobility Anchor',\n",
      "                           'LWA': 'LTE-WLAN Radio Level Aggregation',\n",
      "                           'LWIP': 'LTE-WLAN Radio Level Integration with '\n",
      "                                   'IPsec Tunnel',\n",
      "                           'MAG': 'Mobile Access Gateway',\n",
      "                           'MAPCON': 'Multi Access PDN Connectivity',\n",
      "                           'MIPv4': 'Mobile IP version 4',\n",
      "                           'MIPv6': 'Mobile IP version 6',\n",
      "                           'MME': 'Mobility Management Entity',\n",
      "                           'MTC': 'Machine-Type Communications',\n",
      "                           'NBM': 'Network-based Mobility',\n",
      "                           'NSWO': 'Non-seamless WLAN Offload',\n",
      "                           'OPI': 'Offload Preference Indicator',\n",
      "                           'P-GW': 'PDN Gateway',\n",
      "                           'PMIP/PMIPv6': 'Proxy Mobile IP version 6',\n",
      "                           'RCLWI': 'RAN Controlled WLAN Interworking',\n",
      "                           'RIM': 'RAN Information Management',\n",
      "                           'RSRP': 'Reference Signal Received Power',\n",
      "                           'RSSI': 'Received Signal Strength Indicator',\n",
      "                           'S-GW': 'Serving GW',\n",
      "                           'SON': 'Self-Configuring and self-Optimizing '\n",
      "                                  'network',\n",
      "                           'SectorID': 'Sector Address Identifier',\n",
      "                           'TWAG': 'Trusted WLAN Access Gateway',\n",
      "                           'TWAN': 'Trusted WLAN Access Network',\n",
      "                           'TWAP': 'Trusted WLAN AAA Proxy',\n",
      "                           'UICC': 'Universal Integrated Circuit Card',\n",
      "                           'UWAN': 'Untrusted WLAN Access Network',\n",
      "                           'V-ANDSF': 'Visited-ANDSF',\n",
      "                           'WLCP': 'WLAN Control Protocol',\n",
      "                           'WMM': 'Wifi Multimedia',\n",
      "                           'WiMAX': 'Worldwide Interoperability for Microwave '\n",
      "                                    'Access',\n",
      "                           'ePDG': 'Evolved Packet Data Gateway'}}\n"
     ]
    }
   ],
   "source": [
    "import re\n",
    "\n",
    "etsi = util.EtsiParser()\n",
    "\n",
    "doc_abbrs = dict()\n",
    "for p in pdfs:\n",
    "    name = os.path.basename(p)\n",
    "    doc_abbrs[name] = etsi.get_abbrs_from_file(p)\n",
    "pp.pprint(doc_abbrs)"
   ]
  },
  {
   "cell_type": "markdown",
   "metadata": {},
   "source": [
    "### Pdf -> Text"
   ]
  },
  {
   "cell_type": "code",
   "execution_count": 4,
   "metadata": {},
   "outputs": [
    {
     "name": "stdout",
     "output_type": "stream",
     "text": [
      "\u001b[2m\u001b[36m(pid=32176)\u001b[0m ts_123002v150000p.pdf: num. pages: 111\n",
      "\u001b[2m\u001b[36m(pid=32176)\u001b[0m ts_123002v150000p.pdf: parsed 1/111\n",
      "\u001b[2m\u001b[36m(pid=32180)\u001b[0m ts_123402v150300p.pdf: num. pages: 310\n",
      "\u001b[2m\u001b[36m(pid=32180)\u001b[0m ts_123402v150300p.pdf: parsed 1/310\n",
      "\u001b[2m\u001b[36m(pid=32175)\u001b[0m ts_123401v151000p.pdf: num. pages: 419\n",
      "\u001b[2m\u001b[36m(pid=32175)\u001b[0m ts_123401v151000p.pdf: parsed 1/419\n",
      "\u001b[2m\u001b[36m(pid=32176)\u001b[0m ts_123002v150000p.pdf: parsed 31/111\n",
      "\u001b[2m\u001b[36m(pid=32175)\u001b[0m ts_123401v151000p.pdf: parsed 31/419\n",
      "\u001b[2m\u001b[36m(pid=32180)\u001b[0m ts_123402v150300p.pdf: parsed 31/310\n",
      "\u001b[2m\u001b[36m(pid=32176)\u001b[0m ts_123002v150000p.pdf: parsed 61/111\n",
      "\u001b[2m\u001b[36m(pid=32175)\u001b[0m ts_123401v151000p.pdf: parsed 61/419\n",
      "\u001b[2m\u001b[36m(pid=32180)\u001b[0m ts_123402v150300p.pdf: parsed 61/310\n",
      "\u001b[2m\u001b[36m(pid=32175)\u001b[0m ts_123401v151000p.pdf: parsed 91/419\n",
      "\u001b[2m\u001b[36m(pid=32176)\u001b[0m ts_123002v150000p.pdf: parsed 91/111\n",
      "\u001b[2m\u001b[36m(pid=32176)\u001b[0m ts_123002v150000p.pdf: done, took 4.024340867996216s\n",
      "\u001b[2m\u001b[36m(pid=32175)\u001b[0m ts_123401v151000p.pdf: parsed 121/419\n",
      "\u001b[2m\u001b[36m(pid=32180)\u001b[0m ts_123402v150300p.pdf: parsed 91/310\n",
      "\u001b[2m\u001b[36m(pid=32175)\u001b[0m ts_123401v151000p.pdf: parsed 151/419\n",
      "\u001b[2m\u001b[36m(pid=32180)\u001b[0m ts_123402v150300p.pdf: parsed 121/310\n",
      "\u001b[2m\u001b[36m(pid=32175)\u001b[0m ts_123401v151000p.pdf: parsed 181/419\n",
      "\u001b[2m\u001b[36m(pid=32180)\u001b[0m ts_123402v150300p.pdf: parsed 151/310\n",
      "\u001b[2m\u001b[36m(pid=32180)\u001b[0m ts_123402v150300p.pdf: parsed 181/310\n",
      "\u001b[2m\u001b[36m(pid=32175)\u001b[0m ts_123401v151000p.pdf: parsed 211/419\n",
      "\u001b[2m\u001b[36m(pid=32175)\u001b[0m ts_123401v151000p.pdf: parsed 241/419\n",
      "\u001b[2m\u001b[36m(pid=32180)\u001b[0m ts_123402v150300p.pdf: parsed 211/310\n",
      "\u001b[2m\u001b[36m(pid=32180)\u001b[0m ts_123402v150300p.pdf: parsed 241/310\n",
      "\u001b[2m\u001b[36m(pid=32180)\u001b[0m ts_123402v150300p.pdf: parsed 271/310\n",
      "\u001b[2m\u001b[36m(pid=32175)\u001b[0m ts_123401v151000p.pdf: parsed 271/419\n",
      "\u001b[2m\u001b[36m(pid=32180)\u001b[0m ts_123402v150300p.pdf: parsed 301/310\n",
      "\u001b[2m\u001b[36m(pid=32180)\u001b[0m ts_123402v150300p.pdf: done, took 12.506536960601807s\n",
      "\u001b[2m\u001b[36m(pid=32175)\u001b[0m ts_123401v151000p.pdf: parsed 301/419\n",
      "\u001b[2m\u001b[36m(pid=32175)\u001b[0m ts_123401v151000p.pdf: parsed 331/419\n",
      "\u001b[2m\u001b[36m(pid=32175)\u001b[0m ts_123401v151000p.pdf: parsed 361/419\n",
      "\u001b[2m\u001b[36m(pid=32175)\u001b[0m ts_123401v151000p.pdf: parsed 391/419\n",
      "parsed 3 pdfs, took 17.822781801223755s\n",
      "\u001b[2m\u001b[36m(pid=32175)\u001b[0m ts_123401v151000p.pdf: done, took 17.30303192138672s\n"
     ]
    }
   ],
   "source": [
    "doc_pages = util.parse_pdfs(pdfs) \n",
    "# cache redis"
   ]
  },
  {
   "cell_type": "markdown",
   "metadata": {},
   "source": [
    "### Text -> dataframe"
   ]
  },
  {
   "cell_type": "markdown",
   "metadata": {},
   "source": [
    "##### Per spec analysis"
   ]
  },
  {
   "cell_type": "code",
   "execution_count": 11,
   "metadata": {},
   "outputs": [
    {
     "data": {
      "text/html": [
       "<div>\n",
       "<style scoped>\n",
       "    .dataframe tbody tr th:only-of-type {\n",
       "        vertical-align: middle;\n",
       "    }\n",
       "\n",
       "    .dataframe tbody tr th {\n",
       "        vertical-align: top;\n",
       "    }\n",
       "\n",
       "    .dataframe thead th {\n",
       "        text-align: right;\n",
       "    }\n",
       "</style>\n",
       "<table border=\"1\" class=\"dataframe\">\n",
       "  <thead>\n",
       "    <tr style=\"text-align: right;\">\n",
       "      <th></th>\n",
       "      <th>file</th>\n",
       "      <th>title</th>\n",
       "      <th>num_page</th>\n",
       "      <th>num_acronym</th>\n",
       "    </tr>\n",
       "  </thead>\n",
       "  <tbody>\n",
       "    <tr>\n",
       "      <th>0</th>\n",
       "      <td>ts_123401v151000p.pdf</td>\n",
       "      <td>Radio Access Network (E-UTRAN) access</td>\n",
       "      <td>419</td>\n",
       "      <td>75</td>\n",
       "    </tr>\n",
       "    <tr>\n",
       "      <th>1</th>\n",
       "      <td>ts_123002v150000p.pdf</td>\n",
       "      <td>Network architecture</td>\n",
       "      <td>111</td>\n",
       "      <td>31</td>\n",
       "    </tr>\n",
       "    <tr>\n",
       "      <th>2</th>\n",
       "      <td>ts_123402v150300p.pdf</td>\n",
       "      <td>Architecture enhancements for non-3GPP accesses</td>\n",
       "      <td>310</td>\n",
       "      <td>49</td>\n",
       "    </tr>\n",
       "  </tbody>\n",
       "</table>\n",
       "</div>"
      ],
      "text/plain": [
       "                    file                                            title  \\\n",
       "0  ts_123401v151000p.pdf            Radio Access Network (E-UTRAN) access   \n",
       "1  ts_123002v150000p.pdf                             Network architecture   \n",
       "2  ts_123402v150300p.pdf  Architecture enhancements for non-3GPP accesses   \n",
       "\n",
       "   num_page  num_acronym  \n",
       "0       419           75  \n",
       "1       111           31  \n",
       "2       310           49  "
      ]
     },
     "metadata": {},
     "output_type": "display_data"
    }
   ],
   "source": [
    "rows = list()\n",
    "for doc, pages in doc_pages.items():\n",
    "    rows.append({\n",
    "        \"file\": doc,\n",
    "        \"title\": etsi.get_title_from_pages(pages),\n",
    "        \"num_page\": len(pages),\n",
    "        \"num_acronym\": len(doc_abbrs[doc]),\n",
    "    })\n",
    "    \n",
    "display(pd.DataFrame(rows))"
   ]
  },
  {
   "cell_type": "markdown",
   "metadata": {},
   "source": [
    "##### Agg. analysis"
   ]
  },
  {
   "cell_type": "code",
   "execution_count": 15,
   "metadata": {},
   "outputs": [
    {
     "data": {
      "text/html": [
       "<div>\n",
       "<style scoped>\n",
       "    .dataframe tbody tr th:only-of-type {\n",
       "        vertical-align: middle;\n",
       "    }\n",
       "\n",
       "    .dataframe tbody tr th {\n",
       "        vertical-align: top;\n",
       "    }\n",
       "\n",
       "    .dataframe thead th {\n",
       "        text-align: right;\n",
       "    }\n",
       "</style>\n",
       "<table border=\"1\" class=\"dataframe\">\n",
       "  <thead>\n",
       "    <tr style=\"text-align: right;\">\n",
       "      <th></th>\n",
       "      <th>file</th>\n",
       "      <th>title</th>\n",
       "      <th>num_page</th>\n",
       "      <th>num_acronym</th>\n",
       "    </tr>\n",
       "  </thead>\n",
       "  <tbody>\n",
       "    <tr>\n",
       "      <th>0</th>\n",
       "      <td>agg.pdf</td>\n",
       "      <td>agg</td>\n",
       "      <td>840</td>\n",
       "      <td>145</td>\n",
       "    </tr>\n",
       "  </tbody>\n",
       "</table>\n",
       "</div>"
      ],
      "text/plain": [
       "      file title  num_page  num_acronym\n",
       "0  agg.pdf   agg       840          145"
      ]
     },
     "metadata": {},
     "output_type": "display_data"
    }
   ],
   "source": [
    "acrs, num_page, num_acr, title, file = list(), 0, 0, \"agg\", \"agg.pdf\"\n",
    "for doc, pages in doc_pages.items():\n",
    "    acrs += list(doc_abbrs[doc].keys())\n",
    "    num_page += len(pages)\n",
    "num_acr = len(set(acrs))\n",
    "\n",
    "display(pd.DataFrame([{\n",
    "    \"file\": file,\n",
    "    \"title\": title,\n",
    "    \"num_page\": num_page,\n",
    "    \"num_acronym\": num_acr,\n",
    "}]))"
   ]
  },
  {
   "cell_type": "markdown",
   "metadata": {},
   "source": [
    "### TODO: number of interfaces under a release"
   ]
  },
  {
   "cell_type": "code",
   "execution_count": null,
   "metadata": {},
   "outputs": [],
   "source": []
  },
  {
   "cell_type": "markdown",
   "metadata": {},
   "source": [
    "### TODO: number of pages per interface"
   ]
  },
  {
   "cell_type": "code",
   "execution_count": null,
   "metadata": {},
   "outputs": [],
   "source": []
  }
 ],
 "metadata": {
  "kernelspec": {
   "display_name": "Python 3",
   "language": "python",
   "name": "python3"
  },
  "language_info": {
   "codemirror_mode": {
    "name": "ipython",
    "version": 3
   },
   "file_extension": ".py",
   "mimetype": "text/x-python",
   "name": "python",
   "nbconvert_exporter": "python",
   "pygments_lexer": "ipython3",
   "version": "3.8.2"
  }
 },
 "nbformat": 4,
 "nbformat_minor": 2
}
